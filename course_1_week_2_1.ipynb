{
 "cells": [
  {
   "cell_type": "code",
   "execution_count": 1,
   "metadata": {},
   "outputs": [],
   "source": [
    "import tensorflow as tf"
   ]
  },
  {
   "cell_type": "code",
   "execution_count": 12,
   "metadata": {},
   "outputs": [],
   "source": [
    "mnist = tf.keras.datasets.fashion_mnist\n",
    "(training_images, training_labels), (test_images, test_labels) = mnist.load_data()\n",
    "# training_images  = training_images / 255.0\n",
    "# test_images = test_images / 255.0"
   ]
  },
  {
   "cell_type": "code",
   "execution_count": 14,
   "metadata": {},
   "outputs": [],
   "source": [
    "model = tf.keras.models.Sequential([tf.keras.layers.Flatten(), \n",
    "                                    tf.keras.layers.Dense(128, activation=tf.nn.relu), \n",
    "                                    tf.keras.layers.Dense(10, activation=tf.nn.softmax)])"
   ]
  },
  {
   "cell_type": "code",
   "execution_count": 15,
   "metadata": {
    "scrolled": true
   },
   "outputs": [
    {
     "name": "stdout",
     "output_type": "stream",
     "text": [
      "Epoch 1/20\n",
      "1875/1875 [==============================] - 1s 766us/step - loss: 3.6644 - accuracy: 0.6970\n",
      "Epoch 2/20\n",
      "1875/1875 [==============================] - 1s 747us/step - loss: 0.6700 - accuracy: 0.7600\n",
      "Epoch 3/20\n",
      "1875/1875 [==============================] - 1s 765us/step - loss: 0.5809 - accuracy: 0.7935\n",
      "Epoch 4/20\n",
      "1875/1875 [==============================] - 1s 745us/step - loss: 0.5503 - accuracy: 0.8073\n",
      "Epoch 5/20\n",
      "1875/1875 [==============================] - 1s 745us/step - loss: 0.5193 - accuracy: 0.8206\n",
      "Epoch 6/20\n",
      "1875/1875 [==============================] - 1s 740us/step - loss: 0.5061 - accuracy: 0.8245\n",
      "Epoch 7/20\n",
      "1875/1875 [==============================] - 1s 737us/step - loss: 0.4939 - accuracy: 0.8321\n",
      "Epoch 8/20\n",
      "1875/1875 [==============================] - 1s 736us/step - loss: 0.5007 - accuracy: 0.8303\n",
      "Epoch 9/20\n",
      "1875/1875 [==============================] - 1s 739us/step - loss: 0.4819 - accuracy: 0.8366\n",
      "Epoch 10/20\n",
      "1875/1875 [==============================] - 1s 744us/step - loss: 0.4733 - accuracy: 0.8395\n",
      "Epoch 11/20\n",
      "1875/1875 [==============================] - 1s 753us/step - loss: 0.4700 - accuracy: 0.8412\n",
      "Epoch 12/20\n",
      "1875/1875 [==============================] - 1s 748us/step - loss: 0.4615 - accuracy: 0.8435\n",
      "Epoch 13/20\n",
      "1875/1875 [==============================] - 1s 758us/step - loss: 0.4609 - accuracy: 0.8447\n",
      "Epoch 14/20\n",
      "1875/1875 [==============================] - 1s 741us/step - loss: 0.4640 - accuracy: 0.8443\n",
      "Epoch 15/20\n",
      "1875/1875 [==============================] - 1s 741us/step - loss: 0.4558 - accuracy: 0.8459\n",
      "Epoch 16/20\n",
      "1875/1875 [==============================] - 2s 838us/step - loss: 0.4496 - accuracy: 0.8468\n",
      "Epoch 17/20\n",
      "1875/1875 [==============================] - 1s 744us/step - loss: 0.4588 - accuracy: 0.8455\n",
      "Epoch 18/20\n",
      "1875/1875 [==============================] - 1s 743us/step - loss: 0.4513 - accuracy: 0.8475\n",
      "Epoch 19/20\n",
      "1875/1875 [==============================] - 1s 742us/step - loss: 0.4496 - accuracy: 0.8472\n",
      "Epoch 20/20\n",
      "1875/1875 [==============================] - 1s 748us/step - loss: 0.4445 - accuracy: 0.8495\n"
     ]
    },
    {
     "data": {
      "text/plain": [
       "<tensorflow.python.keras.callbacks.History at 0x28648270850>"
      ]
     },
     "execution_count": 15,
     "metadata": {},
     "output_type": "execute_result"
    }
   ],
   "source": [
    "model.compile(optimizer = tf.optimizers.Adam(),\n",
    "              loss = 'sparse_categorical_crossentropy',\n",
    "              metrics=['accuracy'])\n",
    "\n",
    "model.fit(training_images, training_labels, epochs=20)"
   ]
  },
  {
   "cell_type": "code",
   "execution_count": 16,
   "metadata": {},
   "outputs": [
    {
     "name": "stdout",
     "output_type": "stream",
     "text": [
      "313/313 [==============================] - 0s 541us/step - loss: 0.5625 - accuracy: 0.8307\n"
     ]
    },
    {
     "data": {
      "text/plain": [
       "[0.5625088214874268, 0.8306999802589417]"
      ]
     },
     "execution_count": 16,
     "metadata": {},
     "output_type": "execute_result"
    }
   ],
   "source": [
    "model.evaluate(test_images, test_labels)"
   ]
  }
 ],
 "metadata": {
  "kernelspec": {
   "display_name": "Python 3",
   "language": "python",
   "name": "python3"
  },
  "language_info": {
   "codemirror_mode": {
    "name": "ipython",
    "version": 3
   },
   "file_extension": ".py",
   "mimetype": "text/x-python",
   "name": "python",
   "nbconvert_exporter": "python",
   "pygments_lexer": "ipython3",
   "version": "3.8.3"
  }
 },
 "nbformat": 4,
 "nbformat_minor": 4
}
